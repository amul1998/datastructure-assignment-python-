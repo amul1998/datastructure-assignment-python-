{
  "cells": [
    {
      "cell_type": "markdown",
      "source": [
        "Skip to main content\n",
        "files_&_exceptional_handling_assignment.ipynb\n",
        "files_&_exceptional_handling_assignment.ipynb_\n",
        "Last edited on January 5\n",
        "Q1.HF What is the difference between interpreted and compiled languages?\n",
        "\n",
        "Ans:1.1. Interpreted Languages\n",
        "\n",
        "Execution Process:\n",
        "    The code is executed line by line by an interpreter during runtime.\n",
        "    No separate compilation step is required before execution.\n",
        "\n",
        "Examples: Python, JavaScript, Ruby, PHP.\n",
        "\n",
        "Advantages:\n",
        "    Ease of Debugging: Errors are shown immediately at the point of failure since the code runs line by line.\n",
        "    Flexibility: Easier to experiment with and modify code quickly.\n",
        "    Portability: Can run on any platform with the appropriate interpreter installed.\n",
        "\n",
        "Disadvantages:\n",
        "    Slower Execution: Line-by-line execution can be less efficient compared to precompiled code.\n",
        "    Dependency: Requires the presence of an interpreter on the target system.\n",
        "Compiled Languages\n",
        "\n",
        "Execution Process:\n",
        "\n",
        " The code is translated into machine code (binary) by a compiler before execution.\n",
        " The compiled binary is then executed by the system.\n",
        "Examples: C, C++, Rust, Go.\n",
        "\n",
        "Advantages:\n",
        "\n",
        " Speed: Precompiled machine code is optimized for execution, making it faster than interpretation.\n",
        " Self-Containment: Compiled binaries do not require an external interpreter, making them more portable as standalone executables.\n",
        " Optimization: Compilers often optimize the code, improving performance.\n",
        "Disadvantages:\n",
        "\n",
        " Longer Development Cycle: Changes require recompilation before testing.\n",
        " Platform Dependency: The compiled binary is often specific to the architecture it was compiled for (e.g., Windows, Linux).\n",
        "Q2.What is exception handling in Python?\n",
        "\n",
        "Ans:Exception handling in Python is a mechanism that allows a program to gracefully handle errors or unexpected events during its execution, rather than crashing. It ensures that even when an error occurs, the program can take appropriate action or terminate cleanly.\n",
        "\n",
        "Q3. What is the purpose of the finally block in exception handling?\n",
        "\n",
        "Ans:The purpose of the finally block in exception handling is to ensure that a specific block of code is always executed, regardless of whether an exception occurred or not. This makes it particularly useful for performing cleanup actions or resource management, such as closing files, releasing locks, or disconnecting from a database.\n",
        "\n",
        "Q4. What is logging in Python?\n",
        "\n",
        "Ans:Logging in Python is a mechanism for tracking events that happen while the program runs. The logging module provides a flexible framework for emitting log messages from Python programs. It is used for debugging, monitoring, and understanding the behavior of an application.\n",
        "\n",
        "Q5. What is the significance of the del method in Python?\n",
        "\n",
        "Ans:Significance of the del Method\n",
        "\n",
        "Cleanup Operations:\n",
        "    The __del__ method allows you to define actions that should happen when an object is no longer needed.\n",
        "    Example: Closing open files, releasing network connections, or deallocating resources.\n",
        "\n",
        "Triggered by Garbage Collection:\n",
        "    Python uses garbage collection to automatically manage memory.\n",
        "    The __del__ method is invoked when the reference count of an object drops to zero, meaning no part of the program is using the object anymore.\n",
        "\n",
        "Not Guaranteed to Run:\n",
        "    The exact timing of the __del__ method call is unpredictable because it depends on the garbage collector.\n",
        "    In certain cases (e.g., circular references), the method might not be called at all.\n",
        "\n",
        "Avoid Using __del__ Excessively:\n",
        "    It can make the program harder to debug if not used carefully.\n",
        "    Explicit resource management (e.g., with statement) is usually a better approach.\n",
        "Q6. What is the difference between import and from ... import in Python?\n",
        "\n",
        "Ans:\n",
        "\n",
        "1.import Imports the entire module. from ... import imports specific components only.\n",
        "\n",
        "2.import Access via module_name.component from ... import Access directly via component.\n",
        "\n",
        "3.import Less likely (module acts as prefix). from ... import More likely (direct component access).\n",
        "\n",
        "4.import Slightly more memory usage (entire module loaded). from ... import Potentially more efficient for selective imports.\n",
        "\n",
        "Ex import:import math Ex for from ... import:from math import sqrt\n",
        "\n",
        "Q7.How can you handle multiple exceptions in Python?\n",
        "\n",
        "Ans:In Python, you can handle multiple exceptions in a few different ways, depending on the structure and the nature of the exceptions. The try...except block is used to catch and handle exceptions, and you can handle multiple exceptions either by using multiple except clauses, grouping exceptions in a single except clause, or using a generic except clause to catch all exceptions.\n",
        "\n",
        "Q8. What is the purpose of the with statement when handling files in Python?\n",
        "\n",
        "Ans:The with statement in Python is used for resource management and is commonly employed when handling files. Its main purpose is to simplify the process of opening, using, and closing resources such as files, network connections, or database connections, while ensuring that the resource is properly cleaned up after use, even if an exception occurs.\n",
        "\n",
        "Q9: What is the difference between multithreading and multiprocessing?\n",
        "\n",
        "Ans:1. Multithreading\n",
        "\n",
        "Definition: Multithreading involves running multiple threads (smaller units of a process) within a single process. Each thread shares the same memory space but can execute independently.\n",
        "\n",
        "Concurrency: Threads within a process run concurrently. They can be thought of as tasks that run in parallel but share the same resources, such as memory.\n",
        "\n",
        "Shared Memory: All threads share the same memory space, so data sharing between threads is easier. However, this shared memory also requires synchronization (e.g., using locks) to prevent conflicts and ensure data integrity.\n",
        "\n",
        "2.Multiprocessing\n",
        "\n",
        "Definition: Multiprocessing involves running multiple processes, each with its own memory space. Each process runs independently and has its own Python interpreter and GIL.\n",
        "\n",
        "Concurrency: Processes run concurrently, and each process can truly execute in parallel on multiple CPU cores.\n",
        "\n",
        "Separate Memory: Each process has its own memory space, meaning there is no shared memory by default. This prevents issues like race conditions and memory corruption but requires inter-process communication (IPC) methods (such as queues, pipes, or shared memory) to share data between processes.\n",
        "\n",
        "Q10. What are the advantages of using logging in a program?\n",
        "\n",
        "Ans:Using logging in a program provides several important advantages that enhance the quality, maintainability, and troubleshootability of your code. Unlike simple print statements, the logging module offers a more robust and flexible way to track events during the execution of your program.\n",
        "\n",
        "Here are some of the key advantages of using logging in a program: 1.Better Control Over Output 2.Persistent Log Data 3.Improved Debugging and Troubleshooting 4.Better Error Handling 5.Non-Intrusive 6.Flexibility 7.Integration with External Tools\n",
        "\n",
        "Q11.F What is memory management in Python?\n",
        "\n",
        "Ans:Memory management in Python refers to the process of efficiently allocating, using, and deallocating memory during the execution of a program. Python provides built-in mechanisms to handle memory management automatically, which helps developers avoid many of the complexities of manual memory management.\n",
        "\n",
        "Q12.What are the basic steps involved in exception handling in Python?\n",
        "\n",
        "ANS:try: Attempt to execute code that might throw an exception.\n",
        "\n",
        "except: If an exception occurs, handle it here (you can specify the exception type).\n",
        "\n",
        "else: (Optional) Code that runs if no exception occurs.\n",
        "\n",
        "finally: (Optional) Code that will run regardless of an exception.\n",
        "\n",
        "Q13. Why is memory management important in Python?\n",
        "\n",
        "Memory management in Python is crucial because it ensures efficient use of resources, helps prevent memory leaks, improves performance, and ensures the stability of the application. Although Python handles much of the memory management automatically through reference counting and garbage collection, a good understanding of how memory is managed can lead to more efficient, scalable, and optimized programs. By being mindful of how Python handles memory and using the right techniques and tools, you can write better and more efficient code.\n",
        "\n",
        "Q14.What is the role of try and except in exception handling?\n",
        "\n",
        "In Python, try and except are key components of exception handling, which allows you to handle errors and exceptional conditions in your program without crashing it. They are used to manage runtime errors in a controlled way, providing a mechanism to respond to unexpected situations\n",
        "\n",
        "Q15.How does Python's garbage collection system work?\n",
        "\n",
        "Python's garbage collection (GC) system is responsible for automatically managing memory by reclaiming memory that is no longer in use, ensuring that unused objects are removed to free up space for new ones. This helps prevent memory leaks and optimizes memory usage in a Python program.\n",
        "\n",
        "Q16.What is the purpose of the else block in exception handling?\n",
        "\n",
        "The else block in Python's exception handling system is used to define a section of code that should execute only if no exception was raised in the associated try block. It provides a way to execute code that depends on the success of the code inside the try block.\n",
        "\n",
        "Q17. What are the common logging levels in Python?\n",
        "\n",
        "In Python, the logging module provides a flexible framework for emitting log messages from applications and libraries. This helps in tracking the flow of execution, debugging, and monitoring the application. The logging module supports various logging levels that indicate the severity or importance of the log messages.\n",
        "\n",
        "Q18.What is the difference between os.fork() and multiprocessing in Python?\n",
        "\n",
        "os.fork() is a lower-level, Unix-specific system call used to create child processes by duplicating the parent process. It is less commonly used in Python due to platform limitations and complexities.\n",
        "\n",
        "multiprocessing is a higher-level, cross-platform module designed to create and manage processes. It simplifies parallelism, supports inter-process communication, and is recommended for most parallel computing tasks in Python.\n",
        "\n",
        "Q19.What is the importance of closing a file in Python?\n",
        "\n",
        "Closing a file is important to ensure the following:\n",
        "\n",
        "Proper release of system resources (file descriptors).\n",
        "\n",
        "Ensuring that all data is written to the file, preventing data loss or corruption.\n",
        "\n",
        "Allowing other processes or users to access the file.\n",
        "\n",
        "Avoiding potential issues that could arise from not managing file handles properly.\n",
        "\n",
        "Using the with statement (context manager) is the best practice in Python to automatically close files after they are no longer needed, making the code cleaner, safer, and less error-prone.\n",
        "\n",
        "Q20.What is the difference between file.read() and file.readline() in Python?\n",
        "\n",
        "file.read()\n",
        "\n",
        "Reads the entire file content at once\n",
        "\n",
        "file.readline()\n",
        "\n",
        "Reads one line at a time from the file\n",
        "\n",
        "file.read()\n",
        "\n",
        "Returns the entire content as a string\n",
        "\n",
        "file.readline()\n",
        "\n",
        "Returns a single line as a string (including the newline character)\n",
        "\n",
        "Q21.What is the logging module in Python used for?\n",
        "\n",
        "The logging module in Python is used for tracking events and messages that occur during the execution of a program. It provides a flexible framework for adding logging to your application, which is crucial for debugging, monitoring, and auditing purposes. The logging module allows developers to log various types of messages, such as informational messages, warnings, errors, and critical failures.\n",
        "\n",
        "Q22.What is the os module in Python used for in file handling?\n",
        "\n",
        "The os module in Python provides a way to interact with the operating system and perform various operations related to the file system. It is especially useful for file handling, allowing you to create, modify, delete, and access files and directories in a platform-independent manner. The os module allows you to perform actions that are typically handled by the operating system, such as navigating directories, checking file existence, and getting file metadata.\n",
        "\n",
        "Q23.What are the challenges associated with memory management in Python?\n",
        "\n",
        "Memory management in Python is an important aspect of ensuring efficient program execution and resource usage. While Python's memory management system is automatic, thanks to features like garbage collection and dynamic typing, it still faces certain challenges.\n",
        "\n",
        "Q24.How do you raise an exception manually in Python?\n",
        "\n",
        "In Python, you can manually raise an exception using the raise statement. This allows you to generate exceptions deliberately in your code based on certain conditions or logic.\n",
        "\n",
        "Q25.Why is it important to use multithreading in certain applications?\n",
        "\n",
        "Multithreading is important in certain applications because it allows a program to execute multiple tasks concurrently, making it more efficient and responsive, especially in environments where tasks can be performed in parallel or when an application needs to handle multiple events or operations simultaneously\n",
        "\n",
        "Colab paid products - Cancel contracts here\n"
      ],
      "metadata": {
        "id": "lHS673HQh9bP"
      },
      "id": "lHS673HQh9bP"
    },
    {
      "cell_type": "markdown",
      "id": "7216748f-1f09-4c61-a345-6d162d26ce65",
      "metadata": {
        "id": "7216748f-1f09-4c61-a345-6d162d26ce65"
      },
      "source": [
        "#Practical Questions\n",
        "\n"
      ]
    },
    {
      "cell_type": "code",
      "execution_count": null,
      "id": "750b6c63-a009-406f-a95f-785855b4713c",
      "metadata": {
        "colab": {
          "base_uri": "https://localhost:8080/",
          "height": 106
        },
        "id": "750b6c63-a009-406f-a95f-785855b4713c",
        "outputId": "079010ef-0fe7-48da-a3f7-97273b48d9cc"
      },
      "outputs": [
        {
          "output_type": "error",
          "ename": "SyntaxError",
          "evalue": "unterminated string literal (detected at line 3) (<ipython-input-14-6b4a7f081b0b>, line 3)",
          "traceback": [
            "\u001b[0;36m  File \u001b[0;32m\"<ipython-input-14-6b4a7f081b0b>\"\u001b[0;36m, line \u001b[0;32m3\u001b[0m\n\u001b[0;31m    with open(example.txt\", \"w\") as file:\u001b[0m\n\u001b[0m                              ^\u001b[0m\n\u001b[0;31mSyntaxError\u001b[0m\u001b[0;31m:\u001b[0m unterminated string literal (detected at line 3)\n"
          ]
        }
      ],
      "source": [
        "#Q1.How can you open a file for writing in Python and write a string to it\n",
        "   #Ans:   # Open the file in write mode ('w')\n",
        "with open(example.txt\", \"w\") as file:\n",
        "    # Write a string to the file\n",
        "    file.write(\"Hello, world!\")"
      ]
    },
    {
      "cell_type": "code",
      "execution_count": null,
      "id": "e7819a84-3343-4038-940f-654f409eeffa",
      "metadata": {
        "id": "e7819a84-3343-4038-940f-654f409eeffa"
      },
      "outputs": [],
      "source": []
    },
    {
      "cell_type": "code",
      "execution_count": null,
      "id": "04dbb554-d4cd-4a8f-ae39-3a391aac77c9",
      "metadata": {
        "id": "04dbb554-d4cd-4a8f-ae39-3a391aac77c9",
        "outputId": "39fa1056-6446-440b-afe4-388121b5fcad"
      },
      "outputs": [
        {
          "name": "stdout",
          "output_type": "stream",
          "text": [
            "My Name is Divya\n",
            "Hello world!\n",
            "This is demo file\n",
            "\n"
          ]
        }
      ],
      "source": [
        "#Q2.Write a Python program to read the contents of a file and print each line\n",
        "  #Ans:\n",
        "def print_file_contents(file_path):\n",
        "    \"\"\"Reads and prints the contents of a file line by line.\"\"\"\n",
        "    try:\n",
        "        with open(\"/home/divya/Desktop/demofile.txt\", \"r\") as file:\n",
        "            for line in file:\n",
        "                print(line, end=\"\")  # Print each line as is (without adding extra newlines)\n",
        "    except FileNotFoundError:\n",
        "        print(f\"Error: The file '{\"/home/divya/Desktop/demofile.txt\"}' does not exist.\")\n",
        "    except Exception as e:\n",
        "        print(f\"An error occurred: {e}\")\n",
        "\n",
        "# Example usage\n",
        "file_path = \"example.txt\"  # Replace with the path to your file\n",
        "print_file_contents(file_path)\n"
      ]
    },
    {
      "cell_type": "code",
      "execution_count": null,
      "id": "1a45d21e-5911-4f84-a80c-fbb4ce5b866c",
      "metadata": {
        "id": "1a45d21e-5911-4f84-a80c-fbb4ce5b866c",
        "outputId": "b114a006-7bb4-44f6-fd50-0db8ddb84516"
      },
      "outputs": [
        {
          "name": "stdout",
          "output_type": "stream",
          "text": [
            "Error: The file '/home/divya/Desktop/nonexistent_file.txt' does not exist.\n"
          ]
        }
      ],
      "source": [
        "#Q3.How would you handle a case where the file doesn't exist while trying to open it for reading\n",
        " #Ans:\n",
        "def read_file(file_path):\n",
        "    \"\"\"Reads and prints the contents of a file if it exists.\"\"\"\n",
        "    try:\n",
        "        with open(file_path, \"r\") as file:\n",
        "            for line in file:\n",
        "                print(line, end=\"\")  # Print each line without adding extra newlines\n",
        "    except FileNotFoundError:\n",
        "        print(f\"Error: The file '{file_path}' does not exist.\")\n",
        "    except Exception as e:\n",
        "        print(f\"An unexpected error occurred: {e}\")\n",
        "\n",
        "# Example usage\n",
        "file_path = \"/home/divya/Desktop/nonexistent_file.txt\"  # Replace with your file path\n",
        "read_file(file_path)\n"
      ]
    },
    {
      "cell_type": "code",
      "execution_count": null,
      "id": "9fd05ed1-e7c6-4222-b188-0fa3e91972a1",
      "metadata": {
        "id": "9fd05ed1-e7c6-4222-b188-0fa3e91972a1",
        "outputId": "91f2eb82-4bd4-40a6-9a5c-ccc98c792e9e"
      },
      "outputs": [
        {
          "name": "stdout",
          "output_type": "stream",
          "text": [
            "Contents of 'source.txt' have been successfully copied to 'destination.txt'.\n"
          ]
        }
      ],
      "source": [
        "#Q4.Write a Python script that reads from one file and writes its content to another file\n",
        "  #Ans:\n",
        "def copy_file(source_file, destination_file):\n",
        "    \"\"\"Reads from one file and writes its content to another file.\"\"\"\n",
        "    try:\n",
        "        # Open the source file for reading\n",
        "        with open(\"/home/divya/Desktop/source.txt\", \"r\") as src:\n",
        "            # Open the destination file for writing\n",
        "            with open(\"/home/divya/Desktop/destination.txt\", \"w\") as dest:\n",
        "                for line in src:\n",
        "                    dest.write(line)  # Write each line from the source file to the destination file\n",
        "        print(f\"Contents of '{source_file}' have been successfully copied to '{destination_file}'.\")\n",
        "    except FileNotFoundError:\n",
        "        print(f\"Error: The file '{source_file}' does not exist.\")\n",
        "    except Exception as e:\n",
        "        print(f\"An error occurred: {e}\")\n",
        "\n",
        "# Example usage\n",
        "source_file = \"source.txt\"  # Replace with your source file path\n",
        "destination_file = \"destination.txt\"  # Replace with your destination file path\n",
        "copy_file(source_file, destination_file)\n"
      ]
    },
    {
      "cell_type": "code",
      "execution_count": null,
      "id": "7ac9b732-57a6-481d-8274-7f1ce034eda5",
      "metadata": {
        "id": "7ac9b732-57a6-481d-8274-7f1ce034eda5",
        "outputId": "c2966af7-6a45-424a-cd12-e76b85cfc703"
      },
      "outputs": [
        {
          "name": "stdout",
          "output_type": "stream",
          "text": [
            "The result of 10 divided by 2 is 5.0.\n",
            "Error: Division by zero is not allowed.\n"
          ]
        }
      ],
      "source": [
        "#Q5.How would you catch and handle division by zero error in Python\n",
        "  #Ans:\n",
        "def divide_numbers(a, b):\n",
        "    \"\"\"Divides two numbers and handles division by zero.\"\"\"\n",
        "    try:\n",
        "        result = a / b\n",
        "        print(f\"The result of {a} divided by {b} is {result}.\")\n",
        "    except ZeroDivisionError:\n",
        "        print(\"Error: Division by zero is not allowed.\")\n",
        "    except Exception as e:\n",
        "        print(f\"An unexpected error occurred: {e}\")\n",
        "\n",
        "# Example usage\n",
        "divide_numbers(10, 2)  # Should print the result\n",
        "divide_numbers(10, 0)  # Should handle division by zero\n"
      ]
    },
    {
      "cell_type": "code",
      "execution_count": null,
      "id": "147711bc-6469-4d31-a970-dda8df6ddd15",
      "metadata": {
        "id": "147711bc-6469-4d31-a970-dda8df6ddd15",
        "outputId": "09f9d790-f42b-4ff8-f400-9a3011d7aca1"
      },
      "outputs": [
        {
          "name": "stdout",
          "output_type": "stream",
          "text": [
            "The result of 10 divided by 2 is 5.0.\n",
            "Error: Division by zero is not allowed. The error has been logged.\n"
          ]
        }
      ],
      "source": [
        "#Q6.Write a Python program that logs an error message to a log file when a division by zero exception occurs\n",
        " #Ans:\n",
        "import logging\n",
        "\n",
        "def divide_numbers(a, b):\n",
        "    \"\"\"Divides two numbers and logs an error if division by zero occurs.\"\"\"\n",
        "    try:\n",
        "        result = a / b\n",
        "        print(f\"The result of {a} divided by {b} is {result}.\")\n",
        "    except ZeroDivisionError:\n",
        "        logging.error(\"Division by zero attempted. Inputs were a=%s, b=%s\", a, b)\n",
        "        print(\"Error: Division by zero is not allowed. The error has been logged.\")\n",
        "    except Exception as e:\n",
        "        logging.error(\"An unexpected error occurred: %s\", e)\n",
        "        print(\"An unexpected error occurred. The error has been logged.\")\n",
        "\n",
        "# Configure logging\n",
        "logging.basicConfig(\n",
        "    filename=\"error.log\",  # Log file name\n",
        "    level=logging.ERROR,   # Log only errors and critical issues\n",
        "    format=\"%(asctime)s - %(levelname)s - %(message)s\",  # Log format\n",
        ")\n",
        "\n",
        "# Example usage\n",
        "divide_numbers(10, 2)  # Successful division\n",
        "divide_numbers(10, 0)  # Division by zero\n"
      ]
    },
    {
      "cell_type": "code",
      "execution_count": null,
      "id": "b473b0a6-24ae-4ee6-bdf5-78226e2aff43",
      "metadata": {
        "id": "b473b0a6-24ae-4ee6-bdf5-78226e2aff43",
        "outputId": "2963298b-c974-4a8a-9d9e-6cd3fa9f3593"
      },
      "outputs": [
        {
          "name": "stdin",
          "output_type": "stream",
          "text": [
            "Enter a value:  -3\n"
          ]
        }
      ],
      "source": [
        "#Q7.How do you log information at different levels (INFO, ERROR, WARNING) in Python using the logging module\n",
        "#Ans:\n",
        "import logging\n",
        "\n",
        "logging.basicConfig(level=logging.DEBUG,\n",
        "                    format='%(asctime)s - %(levelname)s - %(message)s')\n",
        "\n",
        "\n",
        "def perform_operation(value):\n",
        "    if value < 0:\n",
        "        raise ValueError(\"Invalid value: Value cannot be negative.\")\n",
        "    else:\n",
        "        # Continue with normal execution\n",
        "        logging.info(\"Operation performed successfully.\")\n",
        "\n",
        "\n",
        "try:\n",
        "    input_value = int(input(\"Enter a value: \"))\n",
        "    perform_operation(input_value)\n",
        "except ValueError as ve:\n",
        "    logging.exception(\"Exception occurred: %s\", str(ve))"
      ]
    },
    {
      "cell_type": "code",
      "execution_count": null,
      "id": "d07a8215-f93e-4e44-9115-d560ca58b1f4",
      "metadata": {
        "id": "d07a8215-f93e-4e44-9115-d560ca58b1f4"
      },
      "outputs": [],
      "source": []
    },
    {
      "cell_type": "code",
      "execution_count": null,
      "id": "5cbf07b2-59aa-45c5-addb-32ab7276f40c",
      "metadata": {
        "id": "5cbf07b2-59aa-45c5-addb-32ab7276f40c",
        "outputId": "d2288a64-14dc-4632-9ec3-a53726ee8267"
      },
      "outputs": [
        {
          "name": "stdout",
          "output_type": "stream",
          "text": [
            "Error: The file ''/home/divya/Desktop/sample.txt'' was not found.\n"
          ]
        }
      ],
      "source": [
        "#Q8.Write a program to handle a file opening error using exception handling\n",
        " #Ans:\n",
        "def open_file(file_path):\n",
        "    \"\"\"Attempts to open a file and handle file opening errors.\"\"\"\n",
        "    try:\n",
        "        # Try to open the file\n",
        "        with open(file_path, 'r') as file:\n",
        "            content = file.read()\n",
        "            print(content)\n",
        "    except FileNotFoundError:\n",
        "        print(f\"Error: The file '{file_path}' was not found.\")\n",
        "    except IOError as e:\n",
        "        print(f\"Error: An IOError occurred while trying to open the file: {e}\")\n",
        "    except Exception as e:\n",
        "        print(f\"An unexpected error occurred: {e}\")\n",
        "\n",
        "# Example usage\n",
        "file_path = \"'/home/divya/Desktop/sample.txt'\"  # Replace with the file path you want to test\n",
        "open_file(file_path)\n"
      ]
    },
    {
      "cell_type": "code",
      "execution_count": null,
      "id": "6da5c3d9-fd36-4092-9106-d8baaef146c5",
      "metadata": {
        "id": "6da5c3d9-fd36-4092-9106-d8baaef146c5",
        "outputId": "fbe0ba33-2b98-476d-e2c7-d0295611f597"
      },
      "outputs": [
        {
          "name": "stdout",
          "output_type": "stream",
          "text": [
            "File content:\n",
            "Hello, world!"
          ]
        }
      ],
      "source": [
        "#Q9.How can you read a file line by line and store its content in a list in Python?\n",
        " #Ans:\n",
        "def read_file_to_list(file_path):\n",
        "    \"\"\"Reads a file line by line and stores its content in a list.\"\"\"\n",
        "    try:\n",
        "        with open(file_path, 'r') as file:\n",
        "            # Read all lines and store them in a list\n",
        "            lines = file.readlines()  # Each line is stored as a string\n",
        "        return lines\n",
        "    except FileNotFoundError:\n",
        "        print(f\"Error: The file '{file_path}' does not exist.\")\n",
        "        return []\n",
        "    except Exception as e:\n",
        "        print(f\"An unexpected error occurred: {e}\")\n",
        "        return []\n",
        "\n",
        "# Example usage\n",
        "file_path = \"/home/divya/Desktop/example.txt\"  # Replace with your file path\n",
        "lines_list = read_file_to_list(file_path)\n",
        "\n",
        "# Print the content of the list\n",
        "if lines_list:\n",
        "    print(\"File content:\")\n",
        "    for line in lines_list:\n",
        "        print(line, end=\"\")  # The end=\"\" prevents extra newlines being printed\n",
        "\n"
      ]
    },
    {
      "cell_type": "code",
      "execution_count": null,
      "id": "d137a34e-7b91-4614-b684-8ef6d92f8742",
      "metadata": {
        "id": "d137a34e-7b91-4614-b684-8ef6d92f8742",
        "outputId": "248a900c-08ed-42cc-d938-c1105c3bc256"
      },
      "outputs": [
        {
          "name": "stdout",
          "output_type": "stream",
          "text": [
            "Data successfully appended to '/home/divya/Desktop//example.txt'.\n"
          ]
        }
      ],
      "source": [
        "#Q10:How can you append data to an existing file in Python?\n",
        " #Ans:\n",
        "def append_to_file(file_path, data):\n",
        "    \"\"\"Appends data to an existing file.\"\"\"\n",
        "    try:\n",
        "        with open(file_path, 'a') as file:\n",
        "            file.write(data + \"\\n\")  # Adding a newline after the data for readability\n",
        "        print(f\"Data successfully appended to '{file_path}'.\")\n",
        "    except Exception as e:\n",
        "        print(f\"An error occurred: {e}\")\n",
        "\n",
        "# Example usage\n",
        "file_path = \"/home/divya/Desktop//example.txt\"  # Replace with your file path\n",
        "data_to_append = \"This is the new data to append.\"\n",
        "append_to_file(file_path, data_to_append)\n",
        "\n"
      ]
    },
    {
      "cell_type": "code",
      "execution_count": null,
      "id": "ddf34b34-50c0-4ec7-a120-7cc03bb8eef4",
      "metadata": {
        "id": "ddf34b34-50c0-4ec7-a120-7cc03bb8eef4",
        "outputId": "123e4be1-3834-41e9-d64a-d1661f58797a"
      },
      "outputs": [
        {
          "name": "stdout",
          "output_type": "stream",
          "text": [
            "The value for the key 'name' is: Divya\n",
            "Error: The key 'country' does not exist in the dictionary.\n"
          ]
        }
      ],
      "source": [
        "#Q11.Write a Python program that uses a try-except block to handle an error when attempting to access a dictionary key that doesn't exist\n",
        "\n",
        " #Ans:\n",
        "def access_dict_key(dictionary, key):\n",
        "    \"\"\"Attempts to access a dictionary key and handles KeyError.\"\"\"\n",
        "    try:\n",
        "        value = dictionary[key]\n",
        "        print(f\"The value for the key '{key}' is: {value}\")\n",
        "    except KeyError:\n",
        "        print(f\"Error: The key '{key}' does not exist in the dictionary.\")\n",
        "    except Exception as e:\n",
        "        print(f\"An unexpected error occurred: {e}\")\n",
        "\n",
        "# Example usage\n",
        "my_dict = {\"name\": \"Divya\", \"age\": 30, \"city\": \"Bangalore\"}\n",
        "\n",
        "# Accessing an existing key\n",
        "access_dict_key(my_dict, \"name\")\n",
        "\n",
        "# Attempting to access a non-existent key\n",
        "access_dict_key(my_dict, \"country\")\n",
        "\n",
        "\n",
        "\n"
      ]
    },
    {
      "cell_type": "code",
      "execution_count": null,
      "id": "4ada2ce5-bf2c-45bb-8eaa-f2a2ae2243c5",
      "metadata": {
        "id": "4ada2ce5-bf2c-45bb-8eaa-f2a2ae2243c5",
        "outputId": "c79f5b76-0d39-4d08-a612-b1b2f8122bee"
      },
      "outputs": [
        {
          "name": "stdin",
          "output_type": "stream",
          "text": [
            "Enter a number:  56\n",
            "Enter another number:  2\n"
          ]
        },
        {
          "name": "stdout",
          "output_type": "stream",
          "text": [
            "The result of 56 divided by 2 is: 28.0\n"
          ]
        }
      ],
      "source": [
        "#Q12.Write a program that demonstrates using multiple except blocks to handle different types of exceptions.\n",
        " #ns:\n",
        "def handle_exceptions():\n",
        "    try:\n",
        "        # Example code that can raise multiple exceptions\n",
        "        num1 = int(input(\"Enter a number: \"))  # Can raise ValueError\n",
        "        num2 = int(input(\"Enter another number: \"))  # Can raise ValueError\n",
        "        result = num1 / num2  # Can raise ZeroDivisionError\n",
        "\n",
        "        print(f\"The result of {num1} divided by {num2} is: {result}\")\n",
        "\n",
        "    except ValueError:\n",
        "        print(\"Error: Invalid input. Please enter valid integers.\")\n",
        "\n",
        "    except ZeroDivisionError:\n",
        "        print(\"Error: Division by zero is not allowed.\")\n",
        "\n",
        "    except Exception as e:\n",
        "        print(f\"An unexpected error occurred: {e}\")\n",
        "\n",
        "# Example usage\n",
        "handle_exceptions()\n",
        "\n"
      ]
    },
    {
      "cell_type": "code",
      "execution_count": null,
      "id": "b48cefae-dd8c-43b1-8969-f3b6ebe4debd",
      "metadata": {
        "id": "b48cefae-dd8c-43b1-8969-f3b6ebe4debd",
        "outputId": "8b01f07f-99ed-40bc-9375-7a5f6f3eab31"
      },
      "outputs": [
        {
          "name": "stdout",
          "output_type": "stream",
          "text": [
            "﻿﻿\n",
            "My Name is Divya\n",
            "Hello world!\n",
            "This is demo file\n",
            "\n",
            "\n",
            "\n"
          ]
        }
      ],
      "source": [
        "#Q13.How would you check if a file exists before attempting to read it in Python\n",
        " #Ans:\n",
        "import os\n",
        "\n",
        "def check_file_exists(file_path):\n",
        "    \"\"\"Check if a file exists before reading it.\"\"\"\n",
        "    if os.path.exists(file_path):\n",
        "        try:\n",
        "            with open(file_path, 'r') as file:\n",
        "                content = file.read()\n",
        "                print(content)\n",
        "        except Exception as e:\n",
        "            print(f\"An error occurred while reading the file: {e}\")\n",
        "    else:\n",
        "        print(f\"Error: The file '{file_path}' does not exist.\")\n",
        "\n",
        "# Example usage\n",
        "file_path = \"/home/divya/Desktop/source.txt\" # Replace with your file path\n",
        "check_file_exists(file_path)\n"
      ]
    },
    {
      "cell_type": "code",
      "execution_count": null,
      "id": "f606af0f-6884-4582-97b3-f3675ceee026",
      "metadata": {
        "id": "f606af0f-6884-4582-97b3-f3675ceee026",
        "outputId": "1ac1ca59-32fc-4db6-e5a2-02b453a184d4"
      },
      "outputs": [
        {
          "name": "stderr",
          "output_type": "stream",
          "text": [
            "ERROR:root:An error occurred: division by zero\n"
          ]
        }
      ],
      "source": [
        "#Q14.Write a program that uses the logging module to log both informational and error messages.\n",
        " #Ans:\n",
        "import logging\n",
        "\n",
        "# Set up basic logging configuration\n",
        "logging.basicConfig(\n",
        "    filename='app.log',               # Log file to store the logs\n",
        "    level=logging.DEBUG,              # Log all levels from DEBUG and higher\n",
        "    format='%(asctime)s - %(levelname)s - %(message)s'  # Log message format\n",
        ")\n",
        "\n",
        "# Log some informational messages\n",
        "logging.info(\"The program has started.\")\n",
        "logging.info(\"Processing data...\")\n",
        "\n",
        "# Simulate an error\n",
        "try:\n",
        "    # This could be any block of code that might raise an exception\n",
        "    result = 10 / 0  # Division by zero will raise an exception\n",
        "except ZeroDivisionError as e:\n",
        "    logging.error(f\"An error occurred: {e}\")\n",
        "\n",
        "# Log some more informational messages\n",
        "logging.info(\"Program completed successfully.\")\n"
      ]
    },
    {
      "cell_type": "code",
      "execution_count": null,
      "id": "d5d4df91-3a98-40e0-8304-510ce0d0de62",
      "metadata": {
        "id": "d5d4df91-3a98-40e0-8304-510ce0d0de62",
        "outputId": "4a072031-214d-4a95-ee25-793962e43110"
      },
      "outputs": [
        {
          "name": "stdout",
          "output_type": "stream",
          "text": [
            "The file '/home/divya/Desktop/demofile.txt' is empty.\n"
          ]
        }
      ],
      "source": [
        "#Q15.Write a Python program that prints the content of a file and handles the case when the file is empty\n",
        " #Ans:\n",
        "def print_file_content(file_path):\n",
        "    \"\"\"Reads and prints the content of a file, handling the case when the file is empty.\"\"\"\n",
        "    try:\n",
        "        with open(file_path, 'r') as file:\n",
        "            content = file.read().strip()  # Remove leading/trailing whitespace (including newline)\n",
        "\n",
        "            if content:  # Check if content is not empty\n",
        "                print(content)\n",
        "            else:\n",
        "                print(f\"The file '{file_path}' is empty.\")\n",
        "\n",
        "    except FileNotFoundError:\n",
        "        print(f\"Error: The file '{file_path}' does not exist.\")\n",
        "    except Exception as e:\n",
        "        print(f\"An error occurred: {e}\")\n",
        "\n",
        "# Example usage\n",
        "file_path = \"/home/divya/Desktop/demofile.txt\"  # Replace with your file path\n",
        "print_file_content(file_path)\n"
      ]
    },
    {
      "cell_type": "code",
      "execution_count": null,
      "id": "c5e62fa6-2f3d-4139-839f-d8d3341d7f9b",
      "metadata": {
        "id": "c5e62fa6-2f3d-4139-839f-d8d3341d7f9b"
      },
      "outputs": [],
      "source": [
        "#Q16.Demonstrate how to use memory profiling to check the memory usage of a small program.\n",
        " #Ans:\n",
        "# importing the library\n",
        "from memory_profiler import profile\n",
        "\n",
        "# instantiating the decorator\n",
        "@profile\n",
        "# code for which memory has to\n",
        "# be monitored\n",
        "def my_func():\n",
        "    x = [x for x in range(0, 1000)]\n",
        "    y = [y*100 for y in range(0, 1500)]\n",
        "    del x\n",
        "    return y\n",
        "\n",
        "if __name__ == '__main__':\n",
        "    my_func()\n",
        "\n",
        "\n"
      ]
    },
    {
      "cell_type": "code",
      "execution_count": null,
      "id": "024a734c-0c15-4c76-aa9e-9249e6635245",
      "metadata": {
        "id": "024a734c-0c15-4c76-aa9e-9249e6635245",
        "outputId": "fe829820-61ec-4544-832b-8ebbdcf01449"
      },
      "outputs": [
        {
          "name": "stdout",
          "output_type": "stream",
          "text": [
            "Numbers have been written to 'numbers.txt'.\n"
          ]
        }
      ],
      "source": [
        "#Q17.Write a Python program to create and write a list of numbers to a file, one number per line\n",
        " #Ans:\n",
        "# Create a list of numbers\n",
        "numbers = [1, 2, 3, 4, 5, 6, 7, 8, 9, 10]\n",
        "\n",
        "# Open a file in write mode\n",
        "with open(\"/home/divya/Downloads/numbers.txt\", \"w\") as file:\n",
        "    # Write each number to the file, one per line\n",
        "    for number in numbers:\n",
        "        file.write(f\"{number}\\n\")\n",
        "\n",
        "print(\"Numbers have been written to 'numbers.txt'.\")\n"
      ]
    },
    {
      "cell_type": "code",
      "execution_count": null,
      "id": "cff9ef76-1f52-4c95-aead-6181def8a65f",
      "metadata": {
        "id": "cff9ef76-1f52-4c95-aead-6181def8a65f",
        "outputId": "6f0be889-d3e4-460d-833f-6ae95d225ce4"
      },
      "outputs": [
        {
          "name": "stdout",
          "output_type": "stream",
          "text": [
            "Numbers have been written to /home/divya/Downloads/numbers.txt\n"
          ]
        }
      ],
      "source": [
        "#Q17.Write a Python program to create and write a list of numbers to a file, one number per line\n",
        "\n",
        "def write_numbers_to_file(filename, numbers):\n",
        "    try:\n",
        "        with open(filename, 'w') as file:  # Open the file in write mode\n",
        "            for number in numbers:\n",
        "                file.write(f\"{number}\\n\")  # Write each number on a new line\n",
        "        print(f\"Numbers have been written to {filename}\")\n",
        "    except Exception as e:\n",
        "        print(f\"An error occurred: {e}\")\n",
        "\n",
        "# Example list of numbers\n",
        "numbers = [1, 2, 3, 4, 5, 6, 7, 8, 9, 10]\n",
        "\n",
        "# Specify the filename\n",
        "filename = \"/home/divya/Downloads/numbers.txt\"\n",
        "\n",
        "# Call the function to write numbers to the file\n",
        "write_numbers_to_file(filename, numbers)\n"
      ]
    },
    {
      "cell_type": "code",
      "execution_count": null,
      "id": "8c3e02d3-26fc-41e1-bbca-71c2ca202843",
      "metadata": {
        "id": "8c3e02d3-26fc-41e1-bbca-71c2ca202843"
      },
      "outputs": [],
      "source": [
        "#Q18.How would you implement a basic logging setup that logs to a file with rotation after 1MB\n",
        "  #Ans:\n",
        "import logging\n",
        "import time\n",
        "\n",
        "from logging.handlers import RotatingFileHandler\n",
        "\n",
        "#----------------------------------------------------------------------\n",
        "def create_rotating_log(path):\n",
        "    \"\"\"\n",
        "    Creates a rotating log\n",
        "    \"\"\"\n",
        "    logger = logging.getLogger(\"Rotating Log\")\n",
        "    logger.setLevel(logging.INFO)\n",
        "\n",
        "    # add a rotating handler\n",
        "    handler = RotatingFileHandler(path, maxBytes=20,\n",
        "                                  backupCount=5)\n",
        "    logger.addHandler(handler)\n",
        "\n",
        "    for i in range(10):\n",
        "        logger.info(\"This is test log line %s\" % i)\n",
        "        time.sleep(1.5)\n",
        "\n",
        "#----------------------------------------------------------------------\n",
        "if __name__ == \"__main__\":\n",
        "    log_file = \"test.log\"\n",
        "    create_rotating_log(log_file)\n"
      ]
    },
    {
      "cell_type": "code",
      "execution_count": null,
      "id": "72388d92-aec3-4c59-b534-b9834d0baf37",
      "metadata": {
        "id": "72388d92-aec3-4c59-b534-b9834d0baf37",
        "outputId": "6e94ff32-6dcc-4989-a105-5e3c04dca94f"
      },
      "outputs": [
        {
          "name": "stdout",
          "output_type": "stream",
          "text": [
            "IndexError: list index out of range\n",
            "Execution completed, exceptions handled.\n"
          ]
        }
      ],
      "source": [
        "#Q19.Write a program that handles both IndexError and KeyError using a try-except block\n",
        " #Ans:\n",
        "def handle_exceptions():\n",
        "    # A sample list and dictionary\n",
        "    sample_list = [10, 20, 30]\n",
        "    sample_dict = {'x': 100, 'y': 200}\n",
        "\n",
        "    try:\n",
        "        # Attempt to access an out-of-range index in the list\n",
        "        print(\"Accessing list index 5:\", sample_list[5])\n",
        "\n",
        "        # Attempt to access a non-existent key in the dictionary\n",
        "        print(\"Accessing dictionary key 'z':\", sample_dict['z'])\n",
        "\n",
        "    except IndexError as e:\n",
        "        print(f\"IndexError: {e}\")\n",
        "\n",
        "    except KeyError as e:\n",
        "        print(f\"KeyError: {e}\")\n",
        "\n",
        "    finally:\n",
        "        print(\"Execution completed, exceptions handled.\")\n",
        "\n",
        "# Run the function\n",
        "handle_exceptions()\n",
        "\n"
      ]
    },
    {
      "cell_type": "code",
      "execution_count": null,
      "id": "5fb2fcce-3440-490b-aa8d-6164af11eea8",
      "metadata": {
        "id": "5fb2fcce-3440-490b-aa8d-6164af11eea8",
        "outputId": "e06deea3-e795-4dea-a753-4e87abf6babe"
      },
      "outputs": [
        {
          "name": "stdout",
          "output_type": "stream",
          "text": [
            "Hello, world!\n",
            "My Name is Divya\n",
            "Hello world!\n",
            "This is demo file\n",
            "\n",
            "This is the new data to append.\n",
            "\n"
          ]
        }
      ],
      "source": [
        "#Q20.How would you open a file and read its contents using a context manager in Python\n",
        " #Ans:\n",
        "def read_file(file_path):\n",
        "    try:\n",
        "        # Use a context manager to open and read the file\n",
        "        with open(file_path, 'r') as file:\n",
        "            contents = file.read()  # Read the entire contents of the file\n",
        "            print(contents)  # Print the contents to the console\n",
        "    except FileNotFoundError as e:\n",
        "        print(f\"FileNotFoundError: {e}\")\n",
        "    except PermissionError as e:\n",
        "        print(f\"PermissionError: {e}\")\n",
        "    except Exception as e:\n",
        "        print(f\"An unexpected error occurred: {e}\")\n",
        "\n",
        "# Example usage\n",
        "read_file('/home/divya/Desktop/example.txt')  # Replace 'example.txt' with your file path\n"
      ]
    },
    {
      "cell_type": "code",
      "execution_count": null,
      "id": "5f00ce81-c8e3-4e3e-ba4c-f36c51e616d4",
      "metadata": {
        "id": "5f00ce81-c8e3-4e3e-ba4c-f36c51e616d4",
        "outputId": "b58d3b2f-6fea-4164-d603-03bb1da825b2"
      },
      "outputs": [
        {
          "name": "stdout",
          "output_type": "stream",
          "text": [
            "init method called\n",
            "enter method called\n",
            "with statement block\n",
            "exit method called\n"
          ]
        }
      ],
      "source": [
        "#Q20.#Q20.How would you open a file and read its contents using a context manager in Python\n",
        "# Python program creating a\n",
        "# context manager\n",
        "\n",
        "class ContextManager():\n",
        "\tdef __init__(self):\n",
        "\t\tprint('init method called')\n",
        "\n",
        "\tdef __enter__(self):\n",
        "\t\tprint('enter method called')\n",
        "\t\treturn self\n",
        "\n",
        "\tdef __exit__(self, exc_type, exc_value, exc_traceback):\n",
        "\t\tprint('exit method called')\n",
        "\n",
        "with ContextManager() as manager:\n",
        "\tprint('with statement block')\n"
      ]
    },
    {
      "cell_type": "code",
      "execution_count": null,
      "id": "e72d008c-e236-4ec8-ba4d-7887329018fb",
      "metadata": {
        "id": "e72d008c-e236-4ec8-ba4d-7887329018fb",
        "outputId": "7bf7cf82-1a56-4193-d973-896c53854277"
      },
      "outputs": [
        {
          "name": "stdout",
          "output_type": "stream",
          "text": [
            "The word 'sample' appears 1 times in the file.\n"
          ]
        }
      ],
      "source": [
        "#Q21.Write a Python program that reads a file and prints the number of occurrences of a specific word.\n",
        " #Ans:\n",
        "def count_word_occurrences(file_path, target_word):\n",
        "    \"\"\"\n",
        "    Reads a file and counts the occurrences of a specific word.\n",
        "\n",
        "    :param file_path: Path to the file to be read.\n",
        "    :param target_word: The word to count in the file.\n",
        "    \"\"\"\n",
        "    try:\n",
        "        # Open the file and read its contents\n",
        "        with open(file_path, 'r') as file:\n",
        "            contents = file.read()\n",
        "\n",
        "        # Normalize the text and split into words\n",
        "        words = contents.lower().split()\n",
        "        target_word_lower = target_word.lower()\n",
        "\n",
        "        # Count the occurrences of the target word\n",
        "        count = words.count(target_word_lower)\n",
        "\n",
        "        print(f\"The word '{target_word}' appears {count} times in the file.\")\n",
        "    except FileNotFoundError:\n",
        "        print(f\"Error: The file '{file_path}' does not exist.\")\n",
        "    except PermissionError:\n",
        "        print(f\"Error: Permission denied to access '{file_path}'.\")\n",
        "    except Exception as e:\n",
        "        print(f\"An unexpected error occurred: {e}\")\n",
        "\n",
        "# Example usage\n",
        "file_path = '/home/divya/Desktop/source.txt'  # Replace with your file path\n",
        "target_word = 'sample'     # Replace with the word you want to count\n",
        "count_word_occurrences(file_path, target_word)\n",
        "\n"
      ]
    },
    {
      "cell_type": "code",
      "execution_count": null,
      "id": "2f08ff1a-247d-4fe5-bf2f-7aaba14a06be",
      "metadata": {
        "id": "2f08ff1a-247d-4fe5-bf2f-7aaba14a06be",
        "outputId": "d6cc18ea-0297-4382-fc85-3522e8b299fe"
      },
      "outputs": [
        {
          "name": "stdout",
          "output_type": "stream",
          "text": [
            "The file '/home/divya/Desktop/sample.txt' is not empty.\n",
            "File contents:\n",
            "﻿01-06-2023\n",
            "02-06-2025\n",
            "36-69\n",
            "2544\n",
            "188\n",
            "\n",
            "\n"
          ]
        }
      ],
      "source": [
        "#Q22.How can you check if a file is empty before attempting to read its contents\n",
        " #Ans:\n",
        "import os\n",
        "\n",
        "def is_file_empty(file_path):\n",
        "    \"\"\"\n",
        "    Checks if the file is empty.\n",
        "\n",
        "    :param file_path: Path to the file to be checked.\n",
        "    :return: True if the file is empty, False otherwise.\n",
        "    \"\"\"\n",
        "    try:\n",
        "        # Check if the file exists\n",
        "        if not os.path.exists(file_path):\n",
        "            print(f\"Error: The file '{file_path}' does not exist.\")\n",
        "            return False\n",
        "\n",
        "        # Check the file size\n",
        "        if os.path.getsize(file_path) == 0:\n",
        "            print(f\"The file '{file_path}' is empty.\")\n",
        "            return True\n",
        "\n",
        "        print(f\"The file '{file_path}' is not empty.\")\n",
        "        return False\n",
        "    except PermissionError:\n",
        "        print(f\"Error: Permission denied to access '{file_path}'.\")\n",
        "        return False\n",
        "    except Exception as e:\n",
        "        print(f\"An unexpected error occurred: {e}\")\n",
        "        return False\n",
        "\n",
        "# Example usage\n",
        "file_path = \"/home/divya/Desktop/sample.txt\"   # Replace with your file path\n",
        "if not is_file_empty(file_path):\n",
        "    with open(file_path, 'r') as file:\n",
        "        contents = file.read()\n",
        "        print(\"File contents:\")\n",
        "        print(contents)\n"
      ]
    },
    {
      "cell_type": "code",
      "execution_count": null,
      "id": "5f02c811-0626-478d-822f-13dd5d9f2f1d",
      "metadata": {
        "id": "5f02c811-0626-478d-822f-13dd5d9f2f1d",
        "outputId": "e2d0fcbf-4982-4ded-e432-d02021509bb3"
      },
      "outputs": [
        {
          "name": "stdout",
          "output_type": "stream",
          "text": [
            "File contents:\n",
            "Hello, world!\n",
            "My Name is Divya\n",
            "Hello world!\n",
            "This is demo file\n",
            "\n",
            "This is the new data to append.\n",
            "\n"
          ]
        }
      ],
      "source": [
        "#Q23.Write a Python program that writes to a log file when an error occurs during file handling.\n",
        "  #Ans:\n",
        "import os\n",
        "import logging\n",
        "\n",
        "# Configure logging\n",
        "logging.basicConfig(\n",
        "    filename='error_log.txt',  # Log file\n",
        "    level=logging.ERROR,       # Log level\n",
        "    format='%(asctime)s - %(levelname)s - %(message)s'  # Log format\n",
        ")\n",
        "\n",
        "def handle_file_operations(file_path):\n",
        "    \"\"\"\n",
        "    Performs file handling operations and logs errors if they occur.\n",
        "\n",
        "    :param file_path: Path to the file to be handled.\n",
        "    \"\"\"\n",
        "    try:\n",
        "        # Attempt to read the file\n",
        "        with open(file_path, 'r') as file:\n",
        "            contents = file.read()\n",
        "            print(\"File contents:\")\n",
        "            print(contents)\n",
        "    except FileNotFoundError as e:\n",
        "        logging.error(f\"File not found: {e}\")\n",
        "        print(f\"Error: The file '{file_path}' does not exist.\")\n",
        "    except PermissionError as e:\n",
        "        logging.error(f\"Permission denied: {e}\")\n",
        "        print(f\"Error: Permission denied to access '{file_path}'.\")\n",
        "    except Exception as e:\n",
        "        logging.error(f\"An unexpected error occurred: {e}\")\n",
        "        print(f\"An unexpected error occurred: {e}\")\n",
        "\n",
        "# Example usage\n",
        "file_path = '/home/divya/Desktop/example.txt'  # Replace with your file path\n",
        "handle_file_operations(file_path)\n",
        "\n",
        "\n"
      ]
    },
    {
      "cell_type": "code",
      "execution_count": null,
      "id": "5494a720-d9e8-43b2-bd13-57bd22e5415c",
      "metadata": {
        "id": "5494a720-d9e8-43b2-bd13-57bd22e5415c"
      },
      "outputs": [],
      "source": []
    }
  ],
  "metadata": {
    "kernelspec": {
      "display_name": "Python 3 (ipykernel)",
      "language": "python",
      "name": "python3"
    },
    "language_info": {
      "codemirror_mode": {
        "name": "ipython",
        "version": 3
      },
      "file_extension": ".py",
      "mimetype": "text/x-python",
      "name": "python",
      "nbconvert_exporter": "python",
      "pygments_lexer": "ipython3",
      "version": "3.12.4"
    },
    "colab": {
      "provenance": []
    }
  },
  "nbformat": 4,
  "nbformat_minor": 5
}